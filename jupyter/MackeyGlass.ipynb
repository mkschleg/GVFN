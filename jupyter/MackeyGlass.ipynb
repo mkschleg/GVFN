{
 "cells": [
  {
   "cell_type": "code",
   "execution_count": 1,
   "metadata": {},
   "outputs": [
    {
     "name": "stdout",
     "output_type": "stream",
     "text": [
      "\u001b[32m\u001b[1mActivating\u001b[22m\u001b[39m environment at `~/GVFN/Project.toml`\n"
     ]
    },
    {
     "name": "stderr",
     "output_type": "stream",
     "text": [
      "┌ Warning: `getindex(o::PyObject, s::AbstractString)` is deprecated in favor of dot overloading (`getproperty`) so elements should now be accessed as e.g. `o.\"s\"` instead of `o[\"s\"]`.\n",
      "│   caller = top-level scope at pyplot.jl:24\n",
      "└ @ Core /home/andrew/.julia/packages/Plots/gylTh/src/backends/pyplot.jl:24\n"
     ]
    },
    {
     "data": {
      "text/plain": [
       "\"../working_results/\""
      ]
     },
     "execution_count": 1,
     "metadata": {},
     "output_type": "execute_result"
    }
   ],
   "source": [
    "using Pkg; Pkg.activate(\"..\")\n",
    "using Plots; pyplot()\n",
    "using Reproduce\n",
    "using FileIO\n",
    "using Statistics\n",
    "using ProgressMeter\n",
    "data_home = \"../working_results/\""
   ]
  },
  {
   "cell_type": "code",
   "execution_count": 2,
   "metadata": {},
   "outputs": [
    {
     "data": {
      "text/plain": [
       "get_best_settings (generic function with 1 method)"
      ]
     },
     "execution_count": 2,
     "metadata": {},
     "output_type": "execute_result"
    }
   ],
   "source": [
    "function NRMSE(results; phase=\"Validation\", window=1000,skip=10)\n",
    "    # Ground truth and predictions\n",
    "    g,p = results[\"$(phase)GroundTruth\"], results[\"$(phase)Predictions\"]\n",
    "\n",
    "    # drop the extra predictions past the last ground truth\n",
    "    p = p[1:length(g)]\n",
    "\n",
    "    # subsample the data for efficiency\n",
    "    # g, p = g[1:skip:end], p[1:skip:end]\n",
    "\n",
    "    values = Float64[]\n",
    "    for i=window+1:skip:length(p)\n",
    "        ĝ = g[i-window:i]\n",
    "        P̂ = p[i-window:i]\n",
    "        push!(values, sqrt(mean((ĝ.-P̂).^2) / mean((ĝ.-mean(ĝ)).^2)))\n",
    "    end\n",
    "    return values\n",
    "end\n",
    "\n",
    "TrainingNRMSE(results) = NRMSE(results; phase=\"\")\n",
    "ValidationNRMSE(results) = NRMSE(results; phase=\"Validation\")\n",
    "TestNRMSE(results) = NRMSE(results; phase=\"Test\")\n",
    "\n",
    "loadData(itm) = load(joinpath(itm.folder_str,\"results.jld2\"))[\"results\"]\n",
    "\n",
    "function get_setting(ic, clean_func)\n",
    "\n",
    "    diff_dict = diff(ic)\n",
    "    \n",
    "    itms = ic.items\n",
    "    res = Vector{Float64}[]\n",
    "    for (itm_idx, itm) ∈ enumerate(itms)\n",
    "        push!(res, clean_func(loadData(itm)))\n",
    "    end\n",
    "    \n",
    "    vals = zeros(length(res[1]),length(res))\n",
    "    for i=1:length(res)\n",
    "        vals[:,i] .= res[i]\n",
    "    end\n",
    "    \n",
    "    μ = mean(vals,dims=2)\n",
    "    σ = std(vals, dims=2, corrected=true)./sqrt(length(itms))\n",
    "    \n",
    "    return μ, σ\n",
    "end\n",
    "\n",
    "function get_best_setting(ic::ItemCollection, params::Dict)\n",
    "    sub_ic = ItemCollection(search(ic, params)[3])\n",
    "    \n",
    "    sub_diff = diff(sub_ic)\n",
    "    delete!(sub_diff, \"seed\")\n",
    "    \n",
    "    iter = Iterators.product(values(sub_diff)...)\n",
    "    best = Inf\n",
    "    bestIC = nothing\n",
    "    bestData = nothing\n",
    "    for arg ∈ iter\n",
    "        ic′ = ItemCollection(search(sub_ic, Dict(Pair.(keys(sub_diff),arg)))[3])\n",
    "        μ,_ = get_setting(ic′, ValidationNRMSE)\n",
    "        \n",
    "        μ = mean(μ)\n",
    "        if μ ≤ best\n",
    "            best = μ\n",
    "            bestIC = ic′\n",
    "        end\n",
    "    end\n",
    "    @assert best != Inf\n",
    "    \n",
    "    return get_setting(ic′, TrainingNRMSE)\n",
    "end\n",
    "\n",
    "function get_best_settings(ic::ItemCollection, param::String)\n",
    "    d = diff(ic)\n",
    "    params = d[param]\n",
    "    data = NamedTuple{Vector{Float64},Vector{Float64}}[]\n",
    "    for p in params\n",
    "        subIC = search(ic, Dict(param=>p))[3]\n",
    "        μ, σ = get_best_setting(subIC)\n",
    "        push!(data, (μ=μ, σ=σ))\n",
    "    end\n",
    "    return data.μ, data.σ\n",
    "end"
   ]
  },
  {
   "cell_type": "code",
   "execution_count": 3,
   "metadata": {},
   "outputs": [],
   "source": [
    "ic = ItemCollection(joinpath(data_home,\"mackeyglass_fluxgvfn/data\"));"
   ]
  },
  {
   "cell_type": "code",
   "execution_count": 4,
   "metadata": {},
   "outputs": [
    {
     "ename": "AssertionError",
     "evalue": "AssertionError: best != Inf",
     "output_type": "error",
     "traceback": [
      "AssertionError: best != Inf",
      "",
      "Stacktrace:",
      " [1] get_best_setting(::ItemCollection, ::Dict{String,Int64}) at ./In[2]:67",
      " [2] top-level scope at In[4]:1"
     ]
    }
   ],
   "source": [
    "μ,σ = get_best_setting(ic, Dict(\"tau\"=>1))"
   ]
  },
  {
   "cell_type": "code",
   "execution_count": 5,
   "metadata": {},
   "outputs": [
    {
     "ename": "AssertionError",
     "evalue": "AssertionError: best != Inf",
     "output_type": "error",
     "traceback": [
      "AssertionError: best != Inf",
      "",
      "Stacktrace:",
      " [1] get_best_setting(::ItemCollection, ::Dict{String,Int64}) at ./In[2]:67",
      " [2] top-level scope at In[5]:1"
     ]
    }
   ],
   "source": [
    "μ,σ = get_best_setting(ic, Dict(\"tau\"=>16))"
   ]
  }
 ],
 "metadata": {
  "kernelspec": {
   "display_name": "Julia 1.3.1",
   "language": "julia",
   "name": "julia-1.3"
  },
  "language_info": {
   "file_extension": ".jl",
   "mimetype": "application/julia",
   "name": "julia",
   "version": "1.3.1"
  }
 },
 "nbformat": 4,
 "nbformat_minor": 2
}
