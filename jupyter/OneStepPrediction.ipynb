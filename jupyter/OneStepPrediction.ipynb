{
 "cells": [
  {
   "cell_type": "code",
   "execution_count": null,
   "metadata": {
    "scrolled": true
   },
   "outputs": [],
   "source": [
    "using Pkg; Pkg.activate(\"..\")\n",
    "using Plots; pyplot()\n",
    "using Reproduce\n",
    "using FileIO\n",
    "using Statistics\n",
    "using TOML\n",
    "using ProgressMeter\n",
    "\n",
    "\n",
    "data_home = \"../oneStepErrors\""
   ]
  },
  {
   "cell_type": "code",
   "execution_count": null,
   "metadata": {
    "collapsed": true,
    "scrolled": true
   },
   "outputs": [],
   "source": [
    "Plots.scalefontsizes(1.5)"
   ]
  },
  {
   "cell_type": "code",
   "execution_count": null,
   "metadata": {
    "scrolled": true
   },
   "outputs": [],
   "source": [
    "# Get the stupid pyplot warnings out of the way\n",
    "p=plot(rand(100))\n",
    "plot(p, size=(100,100))"
   ]
  },
  {
   "cell_type": "code",
   "execution_count": null,
   "metadata": {
    "scrolled": true
   },
   "outputs": [],
   "source": [
    "# ==================\n",
    "# --- DATA UTILS ---\n",
    "# ==================\n",
    "\n",
    "loadData(itm) = FileIO.load(joinpath(itm.folder_str,\"results.jld2\"))[\"results\"]\n",
    "TrainingNRMSE(itm) = loadData(itm)[\"TrainingNRMSE\"]\n",
    "ValidationNRMSE(itm) = loadData(itm)[\"ValidationNRMSE\"]\n",
    "TestNRMSE(itm) = loadData(itm)[\"TestNRMSE\"]\n",
    "\n",
    "function avgOverRuns(ic, getData::Function; runsKey = \"seed\", aggregate_func=mean, window=1)\n",
    "\n",
    "    diff_dict = diff(ic)\n",
    "    @assert length(collect(keys(diff_dict))) == 1\n",
    "    @assert collect(keys(diff_dict))[1] == runsKey\n",
    "    \n",
    "    itms = ic.items\n",
    "    res = Vector{Float64}[]\n",
    "    for (itm_idx, itm) ∈ enumerate(itms)\n",
    "        d = getData(itm)\n",
    "        \n",
    "        if window > 1\n",
    "            d = begin\n",
    "                \n",
    "                sm = Float64[]\n",
    "                for i=1:window:length(d)-window\n",
    "                    push!(sm, mean(d[i:i+window]))\n",
    "                end\n",
    "                sm\n",
    "            end\n",
    "        end\n",
    "        push!(res, d)\n",
    "    end\n",
    "    \n",
    "    vals = zeros(length(res[1]),length(res))\n",
    "    for i=1:length(res)\n",
    "        vals[:,i] .= res[i]\n",
    "    end\n",
    "    \n",
    "    μ = aggregate_func(vals,dims=2)\n",
    "    σ = std(vals, dims=2, corrected=true)./sqrt(length(itms))\n",
    "    \n",
    "    return μ, σ\n",
    "end\n",
    "\n",
    "cfgDict(diff, arg_tuple) = Dict(Pair.(keys(diff),arg_tuple))\n",
    "\n",
    "function get_best_IC(ic::ItemCollection, params::Dict; aggregate_func, window=1)\n",
    "    sub_ic = search(ic, params)\n",
    "    \n",
    "    # get all param settings, ignoring runs\n",
    "    sub_diff = diff(sub_ic)\n",
    "    delete!(sub_diff, \"seed\")\n",
    "    \n",
    "    iter = Iterators.product(values(sub_diff)...)\n",
    "    best = Inf\n",
    "    bestIC = nothing\n",
    "    bestData = nothing\n",
    "    for arg ∈ iter\n",
    "        ic′ = search(sub_ic, cfgDict(sub_diff, arg))\n",
    "        μ,_ = avgOverRuns(ic′, ValidationNRMSE;window=window)\n",
    "        \n",
    "        μ = aggregate_func(μ[1:end])\n",
    "        if μ ≤ best\n",
    "            best = μ\n",
    "            bestIC = ic′\n",
    "        end\n",
    "    end\n",
    "    @assert best != Inf\n",
    "    \n",
    "    return bestIC\n",
    "end\n",
    "\n",
    "function get_best_setting(ic::ItemCollection, params::Dict; output_data=TrainingNRMSE, aggregate=mean,window=1)\n",
    "    ic′ = get_best_IC(ic, params; aggregate_func=aggregate, window=window)\n",
    "    return avgOverRuns(ic′, output_data; aggregate_func=aggregate, window=window)\n",
    "end\n",
    "\n",
    "function get_sensitivity(ic::ItemCollection, param::String; phase = TrainingNRMSE, aggregate=mean)\n",
    "    params = diff(ic)[param]\n",
    "    \n",
    "    μs = Float64[]\n",
    "    σs = Float64[]\n",
    "    for p ∈ params\n",
    "        μ, σ = get_best_setting(ic, Dict(param=>p); output_data=phase, aggregate=aggregate)\n",
    "        if phase == TrainingNRMSE\n",
    "            μ = μ[end-100:end]\n",
    "        end\n",
    "        push!(μs, mean(μ));\n",
    "        push!(σs, std(μ, corrected=true)/sqrt(length(μ)))\n",
    "    end\n",
    "    return μs, σs\n",
    "end"
   ]
  },
  {
   "cell_type": "code",
   "execution_count": null,
   "metadata": {
    "scrolled": true
   },
   "outputs": [],
   "source": [
    "# ==================\n",
    "# --- PLOT UTILS ---\n",
    "# ==================\n",
    "\n",
    "fnt = font(\"serif\",22)\n",
    "global_args = [\n",
    "    :tickdir=>:out,\n",
    "    :legend=>:none,\n",
    "    :grid=>false,\n",
    "    :ytickfont => fnt,\n",
    "    :xtickfont => fnt,\n",
    "    :titlefont => fnt,\n",
    "    :legendfont=>fnt,\n",
    "    :xguidefont=>fnt,\n",
    "    :yguidefont=>fnt\n",
    "]\n",
    "\n",
    "pplot(args...;kwargs...) = plot(args...;kwargs...,global_args...)\n",
    "pplot!(args...;kwargs...) = plot!(args...;kwargs...,global_args...)\n",
    "\n",
    "\n",
    "tol_muted = parse.(Colorant, (\"#88CCEE\", \n",
    "        \"#44AA99\", \"#117733\", \"#332288\", \"#DDCC77\", \n",
    "        \"#999933\",\"#CC6677\", \"#882255\", \"#AA4499\", \n",
    "        \"#DDDDDD\",\"#43A385\"))\n",
    "\n",
    "lccolormap = Dict(\n",
    "    \"GVFN\"=>tol_muted[4],\n",
    "    \"RNN\"=>tol_muted[6],\n",
    "    \"AuxTasks\"=>tol_muted[6]\n",
    "    #\"AuxTasks\"=>tol_muted[end]\n",
    ")\n",
    "getLCColor(ic::ItemCollection) = lccolormap[ic.items[1].parsed_args[\"agent\"]]\n",
    "getLCColor(agent::String) = lccolormap[agent]\n",
    "\n",
    "senscolormap = Dict(\n",
    "    \"GVFN\"=>tol_muted[4],\n",
    "    \"RNN\"=>tol_muted[6],\n",
    "    \"AuxTasks\"=>tol_muted[6]\n",
    ")\n",
    "getSensColor(ic::ItemCollection) = senscolormap[ic.items[1].parsed_args[\"agent\"]]\n",
    "getSensColor(agent::String) = senscolormap[agent]\n",
    "\n",
    "lclsmap = Dict(\n",
    "    \"GVFN\"=>:solid,\n",
    "    \"RNN\"=>:solid,\n",
    "    #\"AuxTasks\"=>:solid\n",
    "    \"AuxTasks\"=>:dash\n",
    ")\n",
    "getLCLineStyle(ic::ItemCollection) = lclsmap[ic.items[1].parsed_args[\"agent\"]]\n",
    "getLCLineStyle(agent::String) = lclsmap[agent]\n",
    "\n",
    "senslsmap = Dict(\n",
    "    \"GVFN\"=>:solid,\n",
    "    \"RNN\"=>:solid,\n",
    "    \"AuxTasks\"=>:dash\n",
    ")\n",
    "getSensLineStyle(ic::ItemCollection) = senslsmap[ic.items[1].parsed_args[\"agent\"]]\n",
    "getSensLineStyle(agent::String) = senslsmap[agent]\n",
    "\n",
    "\n",
    "struct PlotSpec\n",
    "    ic::ItemCollection\n",
    "    model::String\n",
    "    key::String\n",
    "    smoothing_window::Int\n",
    "end\n",
    "\n",
    "function plot_best_settings(spec::PlotSpec)\n",
    "    ic = spec.ic\n",
    "    d = diff(ic)\n",
    "    \n",
    "    model = spec.model\n",
    "    τkey = spec.key\n",
    "    \n",
    "    p=pplot()\n",
    "    for τ ∈ diff(ic)[τkey]\n",
    "        μ,σ = get_best_setting(ic, Dict(τkey=>τ))\n",
    "        \n",
    "        if spec.smoothing_window > 1\n",
    "            μ, σ = begin\n",
    "                \n",
    "                sm = Float64[]\n",
    "                smσ = Float64[]\n",
    "                window=spec.smoothing_window\n",
    "                for i=1:window:length(μ)-window\n",
    "                    push!(sm, mean(μ[i:i+window]))\n",
    "                    push!(smσ, mean(σ[i:i+window]))\n",
    "                end\n",
    "                sm, smσ\n",
    "            end\n",
    "        end\n",
    "        \n",
    "        xvals = collect(1:length(μ))\n",
    "        pplot!(p, xvals, μ, ribbon=σ; label=\"$(model) τ=$τ\", ylabel=\"NRMSE\", xlabel=\"Steps\", lw=3)\n",
    "    end\n",
    "    return p\n",
    "end\n",
    "\n",
    "function compare_best_settings(spec1::PlotSpec, spec2::PlotSpec)\n",
    "    ic1, ic2 = spec1.ic, spec2.ic\n",
    "    model1, model2 = spec1.model, spec2.model\n",
    "    τkey1, τkey2 = spec1.key, spec2.key\n",
    "    \n",
    "    @assert length(diff(ic1)[τkey1]) == length(diff(ic2)[τkey2])\n",
    "    @assert spec1.smoothing_window == spec2.smoothing_window\n",
    "    \n",
    "    plots = []\n",
    "    for τ ∈ diff(ic1)[τkey1]\n",
    "        \n",
    "        p = compare_best_setting([ic1, ic2], [τkey1, τkey2], τ)\n",
    "        push!(plots, p)\n",
    "    end\n",
    "    return plots\n",
    "end\n",
    "\n",
    "\n",
    "function compare_best_setting(ics, τkeys, τ; window=1)\n",
    "    p = pplot()\n",
    "    model(ic) = ic.items[1].parsed_args[\"agent\"]\n",
    "\n",
    "    for i=1:length(ics)\n",
    "        ic, τkey = ics[i], τkeys[i]\n",
    "        μ,σ = get_best_setting(ic, Dict(τkey=>τ); window=window)\n",
    "        \n",
    "        xvals = collect(1:length(μ))\n",
    "        modelName = model(ic)\n",
    "        pplot!(p, xvals, μ, ribbon=σ; label=\"$(modelName) τ=$τ\", linestyle=getLCLineStyle(ic),color=getLCColor(ic), lw=2, title=\"Truncation: $(τ)\")\n",
    "    end\n",
    "    return p\n",
    "end\n",
    "\n",
    "function plot_sensitivity!(p, spec::PlotSpec; phase=TrainingNRMSE, aggregate=mean)\n",
    "    ic, model, param = spec.ic, spec.model, spec.key\n",
    "    \n",
    "    xlabel = endswith(param, \"tau\") ? \"Truncation (p)\" : param\n",
    "    μ, σ = get_sensitivity(ic, param; phase=phase, aggregate=aggregate)\n",
    "    pplot!(p, diff(ic)[param], μ, errorbar=σ; label=\"$(model)\", linestyle=getSensLineStyle(ic), color=getSensColor(spec.model), lw=3)\n",
    "end\n",
    "plot_sensitivity(spec::PlotSpec; phase=TrainingNRMSE, aggregate=mean) = \n",
    "    plot_sensitivity!(pplot(), spec; phase=phase, aggregate=aggregate)\n",
    "\n",
    "function plot_sensitivities(specs::Vector{PlotSpec}; phase=TrainingNRMSE, aggregate=mean)\n",
    "    p=pplot()\n",
    "    for i=1:length(specs)\n",
    "       plot_sensitivity!(p, specs[i]; phase=phase, aggregate=aggregate) \n",
    "    end\n",
    "    p\n",
    "end"
   ]
  },
  {
   "cell_type": "code",
   "execution_count": null,
   "metadata": {
    "collapsed": true
   },
   "outputs": [],
   "source": []
  },
  {
   "cell_type": "markdown",
   "metadata": {},
   "source": [
    "---\n",
    "# MackeyGlass\n",
    "---"
   ]
  },
  {
   "cell_type": "code",
   "execution_count": null,
   "metadata": {
    "scrolled": true
   },
   "outputs": [],
   "source": [
    "RNNSpec(ic, param; window=1) = PlotSpec(ic, \"RNN\", param, window)\n",
    "AuxSpec(ic, param; window=1) = PlotSpec(ic, \"AuxTasks\", param, window)\n",
    "GVFNSpec(ic, param; window=1) = PlotSpec(ic, \"GVFN\", param, window)\n",
    "\n",
    "RNNSpec(ic; window=1) = RNNSpec(ic, \"rnn_tau\"; window=window)\n",
    "AuxSpec(ic; window=1) = AuxSpec(ic, \"rnn_tau\"; window=window)\n",
    "GVFNSpec(ic; window=1) = GVFNSpec(ic, \"gvfn_tau\"; window=window)\n",
    "\n",
    "lc_settings = [\n",
    "    :ylim=>[0.15,0.7],\n",
    "]\n",
    "sens_settings = [\n",
    "    :ylim=>[0.15,0.7],\n",
    "]"
   ]
  },
  {
   "cell_type": "code",
   "execution_count": null,
   "metadata": {
    "scrolled": true
   },
   "outputs": [],
   "source": [
    "gvfn_ic = ItemCollection(joinpath(data_home, \"final_runs/mackeyglass_gvfn_final_NRMSE/data\"))\n",
    "diff(gvfn_ic)"
   ]
  },
  {
   "cell_type": "code",
   "execution_count": null,
   "metadata": {
    "scrolled": true
   },
   "outputs": [],
   "source": [
    "rnn_ic = ItemCollection(joinpath(data_home,\"final_runs/mackeyglass_rnn_final_NRMSE/data\"));\n",
    "diff(rnn_ic)"
   ]
  },
  {
   "cell_type": "code",
   "execution_count": null,
   "metadata": {
    "scrolled": true
   },
   "outputs": [],
   "source": [
    "aux_ic = ItemCollection(joinpath(data_home,\"final_runs/mackeyglass_aux_final_NRMSE/data\"));\n",
    "diff(aux_ic)"
   ]
  },
  {
   "cell_type": "code",
   "execution_count": null,
   "metadata": {},
   "outputs": [],
   "source": [
    "p = pplot(plot_sensitivities([GVFNSpec(gvfn_ic),RNNSpec(rnn_ic),AuxSpec(aux_ic)]), xscale=:log2)\n",
    "savefig(p, \"mg_tau_sens_train.pdf\")\n",
    "p2 = pplot(plot_sensitivities([GVFNSpec(gvfn_ic),RNNSpec(rnn_ic), AuxSpec(aux_ic)]; phase=TestNRMSE), xscale=:log2)\n",
    "savefig(p2, \"mg_tau_sens_test.pdf\")\n",
    "display(p); display(p2)\n",
    "#pout = plot(p,p2,layout=(1,2),size=(700,400))\n",
    "#savefig(pout, \"mg_tau_sens.pdf\")"
   ]
  },
  {
   "cell_type": "code",
   "execution_count": null,
   "metadata": {},
   "outputs": [],
   "source": [
    "p = pplot(plot_sensitivities([GVFNSpec(gvfn_ic),RNNSpec(rnn_ic),AuxSpec(aux_ic)];aggregate=median), xscale=:log2)\n",
    "savefig(p, \"mg_tau_sens_median_train.pdf\")\n",
    "p2 = pplot(plot_sensitivities([GVFNSpec(gvfn_ic),RNNSpec(rnn_ic), AuxSpec(aux_ic)]; phase=TestNRMSE, aggregate=median), xscale=:log2)\n",
    "savefig(p2, \"mg_tau_sens_median_test.pdf\")\n",
    "display(p); display(p2)\n",
    "#pout = plot(p,p2,layout=(1,2),size=(700,400))\n",
    "#savefig(pout, \"mg_tau_sens.pdf\")"
   ]
  },
  {
   "cell_type": "code",
   "execution_count": null,
   "metadata": {
    "scrolled": false
   },
   "outputs": [],
   "source": [
    "plots = []\n",
    "for τ∈[1,8,32]\n",
    "    push!(plots,compare_best_setting([gvfn_ic, rnn_ic, aux_ic], [\"gvfn_tau\", \"rnn_tau\",\"rnn_tau\"],τ; window=1000))\n",
    "end\n",
    "pout=pplot(plots..., size=[1500,500]; lc_settings..., layout=(1,3),)\n",
    "savefig(pout, \"mg_lc.pdf\")\n",
    "display(pout)"
   ]
  },
  {
   "cell_type": "code",
   "execution_count": null,
   "metadata": {
    "scrolled": false
   },
   "outputs": [],
   "source": [
    "plots = []\n",
    "for τ∈[1,]\n",
    "    push!(plots,compare_best_setting([gvfn_ic, rnn_ic], [\"gvfn_tau\", \"rnn_tau\"],τ; window=1000))\n",
    "end\n",
    "pout=plot(plots[1],ylim=[0.15,1.5], title=\"\")\n",
    "savefig(pout, \"mg_lc_tau1.pdf\")\n",
    "display(pout)"
   ]
  },
  {
   "cell_type": "code",
   "execution_count": null,
   "metadata": {
    "scrolled": false
   },
   "outputs": [],
   "source": [
    "plots = []\n",
    "for τ∈[2,4]\n",
    "    push!(plots,compare_best_setting([gvfn_ic, rnn_ic], [\"gvfn_tau\", \"rnn_tau\"],τ; window=1000))\n",
    "end\n",
    "pout=pplot(plots..., size=[1500,500]; lc_settings..., layout=(1,2))\n",
    "savefig(pout, \"mg_example_lc.pdf\")\n",
    "display(pout)"
   ]
  },
  {
   "cell_type": "code",
   "execution_count": null,
   "metadata": {
    "collapsed": true
   },
   "outputs": [],
   "source": [
    "gvfn_ic = ItemCollection(joinpath(data_home, \"mackeyglass_gvfn_NRMSE/data\"))\n",
    "rnn_ic = ItemCollection(joinpath(data_home,\"mackeyglass_rnn_NRMSE/data\"));"
   ]
  },
  {
   "cell_type": "code",
   "execution_count": null,
   "metadata": {
    "scrolled": true
   },
   "outputs": [],
   "source": [
    "gvfn_ss_plots = []\n",
    "model_ss_plots = []\n",
    "for τ∈diff(gvfn_ic)[\"gvfn_tau\"]\n",
    "    subic = search(gvfn_ic, Dict(\"gvfn_tau\"=>τ))\n",
    "    \n",
    "    p=plot_sensitivity(GVFNSpec(subic, \"gvfn_stepsize\"))\n",
    "    p=pplot(p, title=\"Truncation: $τ\")\n",
    "    push!(gvfn_ss_plots,p)\n",
    "    \n",
    "    p=plot_sensitivity(GVFNSpec(subic, \"model_stepsize\"))\n",
    "    p=pplot(p, title=\"Truncation: $τ\")\n",
    "    push!(model_ss_plots,p)\n",
    "end\n",
    "pout = pplot(gvfn_ss_plots..., size=[1500,700],xscale=:log2,)\n",
    "pout2 = pplot(model_ss_plots..., size=[1500,700],xscale=:log2) \n",
    "savefig(pout, \"mg_gvfn_gvfnstepsize_sens.pdf\")\n",
    "savefig(pout2, \"mg_gvfn_modelstepsize_sens.pdf\")\n",
    "display(pout);display(pout2);"
   ]
  },
  {
   "cell_type": "code",
   "execution_count": null,
   "metadata": {
    "scrolled": true
   },
   "outputs": [],
   "source": [
    "model_ss_plots = []\n",
    "for τ∈diff(rnn_ic)[\"rnn_tau\"]\n",
    "    subic = search(rnn_ic, Dict(\"rnn_tau\"=>τ))\n",
    "    \n",
    "    p=plot_sensitivity(RNNSpec(subic, \"rnn_lr\"))\n",
    "    p=plot(p, title=\"Truncation: $τ\")\n",
    "    push!(model_ss_plots,p)\n",
    "end\n",
    "pout = pplot(model_ss_plots..., size=[1500,800],xscale=:log2)\n",
    "savefig(pout, \"mg_rnn_sens.pdf\")\n",
    "display(pout)"
   ]
  },
  {
   "cell_type": "markdown",
   "metadata": {},
   "source": [
    "---\n",
    "# ACEA \n",
    "---"
   ]
  },
  {
   "cell_type": "code",
   "execution_count": null,
   "metadata": {
    "scrolled": true
   },
   "outputs": [],
   "source": [
    "RNNSpec(ic; window=1) = PlotSpec(ic, \"RNN\", \"rnn_tau\", window)\n",
    "GVFNSpec(ic; window=1) = PlotSpec(ic, \"GVFN\", \"gvfn_tau\", window)\n",
    "AuxSpec(ic; window=1) = PlotSpec(ic, \"AuxTasks\", \"rnn_tau\", window)\n",
    "\n",
    "lc_settings = [\n",
    "    :ylim=>[0.4,1.3],\n",
    "]"
   ]
  },
  {
   "cell_type": "code",
   "execution_count": null,
   "metadata": {
    "scrolled": true
   },
   "outputs": [],
   "source": [
    "gvfn_ic = ItemCollection(joinpath(data_home,\"final_runs/acea_gvfn_final_NRMSE/data\"))\n",
    "diff(gvfn_ic)"
   ]
  },
  {
   "cell_type": "code",
   "execution_count": null,
   "metadata": {
    "scrolled": true
   },
   "outputs": [],
   "source": [
    "rnn_ic = ItemCollection(joinpath(data_home,\"final_runs/acea_rnn_final_NRMSE/data\"))\n",
    "diff(rnn_ic)"
   ]
  },
  {
   "cell_type": "code",
   "execution_count": null,
   "metadata": {
    "scrolled": true
   },
   "outputs": [],
   "source": [
    "aux_ic = ItemCollection(joinpath(data_home,\"final_runs/acea_aux_final_NRMSE/data\"))\n",
    "diff(aux_ic)"
   ]
  },
  {
   "cell_type": "code",
   "execution_count": null,
   "metadata": {},
   "outputs": [],
   "source": [
    "p = plot(plot_sensitivities([GVFNSpec(gvfn_ic),RNNSpec(rnn_ic),AuxSpec(aux_ic)]), xscale=:log2)\n",
    "savefig(p, \"acea_tau_sens_train.pdf\")\n",
    "p2 = plot(plot_sensitivities([GVFNSpec(gvfn_ic),RNNSpec(rnn_ic), AuxSpec(aux_ic)]; phase=TestNRMSE), xscale=:log2)\n",
    "savefig(p2, \"acea_tau_sens_test.pdf\")\n",
    "display(p); display(p2)\n",
    "#pout = plot(p,p2,layout=(1,2),size=(700,400))\n",
    "#savefig(pout, \"acea_tau_sens.pdf\")"
   ]
  },
  {
   "cell_type": "code",
   "execution_count": null,
   "metadata": {},
   "outputs": [],
   "source": [
    "p = pplot(plot_sensitivities([GVFNSpec(gvfn_ic),RNNSpec(rnn_ic),AuxSpec(aux_ic)];aggregate=median), xscale=:log2)\n",
    "savefig(p, \"acea_tau_sens_median_train.pdf\")\n",
    "p2 = pplot(plot_sensitivities([GVFNSpec(gvfn_ic),RNNSpec(rnn_ic), AuxSpec(aux_ic)]; phase=TestNRMSE, aggregate=median), xscale=:log2)\n",
    "savefig(p2, \"acea_tau_sens_median_test.pdf\")\n",
    "display(p); display(p2)"
   ]
  },
  {
   "cell_type": "code",
   "execution_count": null,
   "metadata": {
    "scrolled": true
   },
   "outputs": [],
   "source": [
    "plots = []\n",
    "for τ∈[1,8,32]\n",
    "    push!(plots,compare_best_setting([gvfn_ic, rnn_ic, aux_ic], [\"gvfn_tau\", \"rnn_tau\",\"rnn_tau\"],τ; window=100))\n",
    "end\n",
    "pout = pplot(plots..., size=[1500,500]; lc_settings..., layout=(1,3),)\n",
    "savefig(pout, \"acea_lc.pdf\")\n",
    "display(pout)"
   ]
  },
  {
   "cell_type": "code",
   "execution_count": null,
   "metadata": {
    "collapsed": true
   },
   "outputs": [],
   "source": [
    "gvfn_ic = ItemCollection(joinpath(data_home,\"acea_gvfn_NRMSE/data\"))\n",
    "rnn_ic = ItemCollection(joinpath(data_home,\"acea_rnn_NRMSE/data\"));"
   ]
  },
  {
   "cell_type": "code",
   "execution_count": null,
   "metadata": {
    "scrolled": true
   },
   "outputs": [],
   "source": [
    "gvfn_ss_plots = []\n",
    "model_ss_plots = []\n",
    "for τ∈diff(gvfn_ic)[\"gvfn_tau\"]\n",
    "    subic = search(gvfn_ic, Dict(\"gvfn_tau\"=>τ))\n",
    "    \n",
    "    p=plot_sensitivity(GVFNSpec(subic, \"gvfn_stepsize\"))\n",
    "    p=pplot(p, title=\"Truncation: $τ\")\n",
    "    push!(gvfn_ss_plots,p)\n",
    "    \n",
    "    p=plot_sensitivity(GVFNSpec(subic, \"model_stepsize\"))\n",
    "    p=pplot(p, title=\"Truncation: $τ\")\n",
    "    push!(model_ss_plots,p)\n",
    "end\n",
    "pout = pplot(gvfn_ss_plots..., size=[1500,800],xscale=:log2,)\n",
    "pout2 = pplot(model_ss_plots..., size=[1500,800],xscale=:log2) \n",
    "savefig(pout, \"acea_gvfn_gvfnstepsize_sens.pdf\")\n",
    "savefig(pout2, \"acea_gvfn_modelstepsize_sens.pdf\")\n",
    "display(pout);display(pout2);"
   ]
  },
  {
   "cell_type": "code",
   "execution_count": null,
   "metadata": {
    "scrolled": true
   },
   "outputs": [],
   "source": [
    "model_ss_plots = []\n",
    "for τ∈diff(rnn_ic)[\"rnn_tau\"]\n",
    "    subic = search(rnn_ic, Dict(\"rnn_tau\"=>τ))\n",
    "    \n",
    "    p=plot_sensitivity(RNNSpec(subic, \"rnn_lr\"))\n",
    "    p=pplot(p, title=\"Truncation: $τ\")\n",
    "    push!(model_ss_plots,p)\n",
    "end\n",
    "pout = pplot(model_ss_plots..., size=[1000,700],xscale=:log2)\n",
    "savefig(pout, \"acea_rnn_sens.pdf\")\n",
    "display(pout)"
   ]
  },
  {
   "cell_type": "markdown",
   "metadata": {},
   "source": [
    "---\n",
    "# MSO \n",
    "---"
   ]
  },
  {
   "cell_type": "code",
   "execution_count": null,
   "metadata": {
    "scrolled": true
   },
   "outputs": [],
   "source": [
    "RNNSpec(ic; window=1) = PlotSpec(ic, \"RNN\", \"rnn_tau\", window)\n",
    "AuxSpec(ic; window=1) = PlotSpec(ic, \"AuxTasks\", \"rnn_tau\", window)\n",
    "GVFNSpec(ic; window=1) = PlotSpec(ic, \"GVFN\", \"gvfn_tau\", window)\n",
    "\n",
    "plot_settings = [\n",
    "    #:size=>(900,700),\n",
    "    :ylim=>[0.3,1.0],\n",
    "    #:grid=>false\n",
    "]"
   ]
  },
  {
   "cell_type": "code",
   "execution_count": null,
   "metadata": {
    "scrolled": true
   },
   "outputs": [],
   "source": [
    "gvfn_ic = ItemCollection(joinpath(data_home,\"final_runs/mso_gvfn_final_NRMSE/data\"))\n",
    "diff(gvfn_ic)"
   ]
  },
  {
   "cell_type": "code",
   "execution_count": null,
   "metadata": {
    "scrolled": true
   },
   "outputs": [],
   "source": [
    "rnn_ic = ItemCollection(joinpath(data_home,\"final_runs/mso_rnn_final_NRMSE/data\"))\n",
    "diff(rnn_ic)"
   ]
  },
  {
   "cell_type": "code",
   "execution_count": null,
   "metadata": {},
   "outputs": [],
   "source": [
    "aux_ic = ItemCollection(joinpath(data_home,\"final_runs/mso_aux_final_NRMSE/data\"))\n",
    "diff(aux_ic)"
   ]
  },
  {
   "cell_type": "code",
   "execution_count": null,
   "metadata": {
    "scrolled": true
   },
   "outputs": [],
   "source": [
    "p = pplot(plot_sensitivities([GVFNSpec(gvfn_ic),RNNSpec(rnn_ic),AuxSpec(aux_ic)]),  xscale=:log2)\n",
    "savefig(p, \"mso_tau_sens_train.pdf\")\n",
    "p2 = pplot(plot_sensitivities([GVFNSpec(gvfn_ic),RNNSpec(rnn_ic),AuxSpec(aux_ic)]; phase=TestNRMSE), xscale=:log2)\n",
    "savefig(p2, \"mso_tau_sens_test.pdf\")\n",
    "display(p); display(p2)\n",
    "#pout = plot(p,p2,layout=(1,2),size=(700,400))\n",
    "#savefig(pout, \"mso_tau_sens.pdf\")"
   ]
  },
  {
   "cell_type": "code",
   "execution_count": null,
   "metadata": {},
   "outputs": [],
   "source": [
    "p = pplot(plot_sensitivities([GVFNSpec(gvfn_ic),RNNSpec(rnn_ic),AuxSpec(aux_ic)];aggregate=median), xscale=:log2)\n",
    "savefig(p, \"mso_tau_sens_median_train.pdf\")\n",
    "p2 = pplot(plot_sensitivities([GVFNSpec(gvfn_ic),RNNSpec(rnn_ic), AuxSpec(aux_ic)]; phase=TestNRMSE, aggregate=median), xscale=:log2)\n",
    "savefig(p2, \"mso_tau_sens_median_test.pdf\")\n",
    "display(p); display(p2)\n",
    "#pout = plot(p,p2,layout=(1,2),size=(700,400))\n",
    "#savefig(pout, \"mg_tau_sens.pdf\")"
   ]
  },
  {
   "cell_type": "code",
   "execution_count": null,
   "metadata": {},
   "outputs": [],
   "source": [
    "plots = []\n",
    "for τ∈[1, 8, 32]\n",
    "    push!(plots,compare_best_setting([gvfn_ic, rnn_ic, aux_ic], [\"gvfn_tau\", \"rnn_tau\",\"rnn_tau\"],τ;window=1000))\n",
    "end\n",
    "pout=pplot(plots..., size=[1500,500]; plot_settings..., layout=(1,3),) \n",
    "savefig(pout, \"mso_lc.pdf\")\n",
    "display(pout)"
   ]
  },
  {
   "cell_type": "code",
   "execution_count": null,
   "metadata": {
    "collapsed": true,
    "scrolled": true
   },
   "outputs": [],
   "source": [
    "gvfn_ic = ItemCollection(joinpath(data_home,\"mso_gvfn_NRMSE/data\"))\n",
    "rnn_ic = ItemCollection(joinpath(data_home,\"mso_rnn_NRMSE/data\"));"
   ]
  },
  {
   "cell_type": "code",
   "execution_count": null,
   "metadata": {
    "scrolled": true
   },
   "outputs": [],
   "source": [
    "gvfn_ss_plots = []\n",
    "model_ss_plots = []\n",
    "for τ∈diff(gvfn_ic)[\"gvfn_tau\"]\n",
    "    subic = search(gvfn_ic, Dict(\"gvfn_tau\"=>τ))\n",
    "    \n",
    "    p=plot_sensitivity(GVFNSpec(subic, \"gvfn_stepsize\"))\n",
    "    p=pplot(p, title=\"Truncation: $τ\")\n",
    "    push!(gvfn_ss_plots,p)\n",
    "    \n",
    "    p=plot_sensitivity(GVFNSpec(subic, \"model_stepsize\"))\n",
    "    p=pplot(p, title=\"Truncation: $τ\")\n",
    "    push!(model_ss_plots,p)\n",
    "end\n",
    "pout = pplot(gvfn_ss_plots..., size=[1500,700],xscale=:log2,)\n",
    "pout2 = pplot(model_ss_plots..., size=[1500,700],xscale=:log2) \n",
    "savefig(pout, \"mso_gvfn_gvfnstepsize_sens.pdf\")\n",
    "savefig(pout2, \"mso_gvfn_modelstepsize_sens.pdf\")\n",
    "display(pout);display(pout2);"
   ]
  },
  {
   "cell_type": "code",
   "execution_count": null,
   "metadata": {
    "scrolled": true
   },
   "outputs": [],
   "source": [
    "model_ss_plots = []\n",
    "for τ∈diff(rnn_ic)[\"rnn_tau\"]\n",
    "    subic = search(rnn_ic, Dict(\"rnn_tau\"=>τ))\n",
    "    \n",
    "    p=plot_sensitivity(RNNSpec(subic, \"rnn_lr\"))\n",
    "    p=pplot(p, title=\"Truncation: $τ\")\n",
    "    push!(model_ss_plots,p)\n",
    "end\n",
    "pout = pplot(model_ss_plots..., size=[1500,700],xscale=:log2)\n",
    "savefig(pout, \"mso_rnn_sens.pdf\")\n",
    "display(pout)"
   ]
  },
  {
   "cell_type": "code",
   "execution_count": null,
   "metadata": {
    "collapsed": true
   },
   "outputs": [],
   "source": []
  },
  {
   "cell_type": "markdown",
   "metadata": {
    "collapsed": true
   },
   "source": [
    "---"
   ]
  },
  {
   "cell_type": "markdown",
   "metadata": {},
   "source": [
    "# FINAL SETTINGS"
   ]
  },
  {
   "cell_type": "code",
   "execution_count": null,
   "metadata": {
    "collapsed": true
   },
   "outputs": [],
   "source": [
    "for d in [\"mso\",\"mackeyglass\",\"acea\"]\n",
    "    if !isdir(\"final_settings/$d\")\n",
    "        mkpath(\"final_settings/$d\")\n",
    "    end\n",
    "end"
   ]
  },
  {
   "cell_type": "code",
   "execution_count": null,
   "metadata": {},
   "outputs": [],
   "source": [
    "ic = ItemCollection(joinpath(data_home, \"mackeyglass_gvfn_NRMSE/data\"))\n",
    "d = diff(ic)\n",
    "τs = d[\"gvfn_tau\"]"
   ]
  },
  {
   "cell_type": "code",
   "execution_count": null,
   "metadata": {},
   "outputs": [],
   "source": [
    "function getSettings(ic)\n",
    "    settings = FileIO.load(joinpath(ic.items[1].folder_str, \"settings.jld2\"))\n",
    "    cfg = Dict()\n",
    "    for k ∈ settings[\"used_keys\"]\n",
    "        cfg[k] = settings[\"parsed_args\"][k]\n",
    "    end\n",
    "    cfg\n",
    "end\n",
    "\n",
    "function makeConfig(settings_dict, exp, model)\n",
    "    delete!(settings_dict, \"seed\")\n",
    "    cfg = Dict(\n",
    "        \"static_args\"=>settings_dict,\n",
    "        \"sweep_args\"=> Dict(\"seed\"=>\"1:30\"),\n",
    "        \"config\"=> Dict(\n",
    "            \"save_dir\"=>\"$(exp)_$(model)_final\",\n",
    "            \"exp_file\"=>\"experiment/timeseries.jl\",\n",
    "            \"exp_module_name\" => \"TimeSeriesExperiment\",\n",
    "            \"exp_func_name\" => \"main_experiment\",\n",
    "            \"arg_iter_type\" => \"iter\"\n",
    "        )\n",
    "    )\n",
    "    cfg\n",
    "end\n",
    "\n",
    "function makeFinalConfigs(experiments)\n",
    "    for exp ∈ experiments\n",
    "        for model ∈ [\"gvfn\",\"rnn\",\"aux\"]\n",
    "            for τ ∈ τs\n",
    "                outfile = \"final_settings/$(exp)/$(model)tau$(τ).toml\"\n",
    "                if !isfile(outfile)\n",
    "                    ic = ItemCollection(joinpath(data_home, \"$(exp)_$(model)_NRMSE/data\"))\n",
    "                    K = model == \"aux\" ? \"rnn\" : model\n",
    "                    bestic = get_best_IC(ic, Dict(\"$(K)_tau\"=>τ))\n",
    "                    settings_dict = getSettings(bestic)\n",
    "                    cfg = makeConfig(settings_dict, exp, model)\n",
    "                    open(outfile,\"w\") do f\n",
    "                        TOML.print(f, cfg)\n",
    "                    end\n",
    "                end\n",
    "            end\n",
    "        end\n",
    "    end\n",
    "end\n",
    "makeFinalConfigs() = makeFinalConfigs([\"mackeyglass\", \"mso\", \"acea\"])\n"
   ]
  },
  {
   "cell_type": "code",
   "execution_count": null,
   "metadata": {
    "collapsed": true
   },
   "outputs": [],
   "source": [
    "#makeFinalConfigs()"
   ]
  },
  {
   "cell_type": "code",
   "execution_count": null,
   "metadata": {
    "collapsed": true
   },
   "outputs": [],
   "source": []
  },
  {
   "cell_type": "code",
   "execution_count": null,
   "metadata": {
    "collapsed": true
   },
   "outputs": [],
   "source": [
    "using GVFN"
   ]
  },
  {
   "cell_type": "code",
   "execution_count": null,
   "metadata": {},
   "outputs": [],
   "source": [
    "function getTargets(n)\n",
    "    env = GVFN.MackeyGlass()\n",
    "    targets = Float64[]\n",
    "    for i=1:n\n",
    "        push!(targets, step!(env)[1])\n",
    "    end\n",
    "    return targets\n",
    "end\n",
    "\n",
    "function getReturn(n, γ)\n",
    "    targets = getTargets(n)\n",
    "    G = zeros(length(targets))\n",
    "    for t=n-1:-1:1\n",
    "        G[t] = targets[t+1] + γ*G[t+1]\n",
    "    end\n",
    "    return G\n",
    "end\n",
    "\n",
    "getNormalizedReturn(n, γ) = getReturn(n,γ) * (1.0-γ)\n",
    "\n",
    "plotTargets!(p, n; kwargs...) = pplot!(p, getTargets(n); kwargs...)\n",
    "plotTargets(n; kwargs...)  = plotTargets!(pplot(), n; kwargs...)\n",
    "\n",
    "plotReturn!(p, n, γ; kwargs...) = pplot!(p, getReturn(n,γ); kwargs..., label=\"γ = $γ\")\n",
    "plotReturn(n, γ; kwargs...) = plotReturn!(pplot(), n, γ; kwargs...)\n",
    "plotNormalizedReturn!(p, n, γ; kwargs...) = pplot!(p, getNormalizedReturn(n,γ); kwargs..., label=\"γ = $γ\")\n",
    "plotNormalizedReturn(n, γ; kwargs...) = plotNormalizedReturn!(pplot(), n, γ; kwargs...)\n"
   ]
  },
  {
   "cell_type": "code",
   "execution_count": null,
   "metadata": {},
   "outputs": [],
   "source": [
    "fnt = font(\"serif\")\n",
    "global_args = [\n",
    "    :tickdir=>:out,\n",
    "    :legend=>:none,\n",
    "    :grid=>false,\n",
    "    :ytickfont => fnt,\n",
    "    :xtickfont => fnt,\n",
    "    :titlefont => fnt,\n",
    "    :legendfont=>fnt,\n",
    "    :xguidefont=>fnt,\n",
    "    :yguidefont=>fnt\n",
    "]\n",
    "\n",
    "n=1000\n",
    "lw=2\n",
    "p = plotTargets(n; linewidth=3, size=(700,500), color=:black, xlim=[0,200],ylim=[0.2,1.3],label=\"Observation\")\n",
    "\n",
    "args = [\n",
    "    :linewidth=>2.5,\n",
    "    :linestyle=>:dash,\n",
    "    :legend=>:best\n",
    "]\n",
    "plotNormalizedReturn!(p,n, 0.0; args...)\n",
    "plotNormalizedReturn!(p,n, 0.75; args...)\n",
    "plotNormalizedReturn!(p,n, 0.90; args...)\n",
    "plotNormalizedReturn!(p,n, 0.96; args...)\n",
    "plot(p, legend=:best, xlabel=\"Steps\")"
   ]
  },
  {
   "cell_type": "code",
   "execution_count": null,
   "metadata": {
    "collapsed": true
   },
   "outputs": [],
   "source": [
    "savefig(p, \"mg_Predictions.png\")"
   ]
  },
  {
   "cell_type": "code",
   "execution_count": null,
   "metadata": {},
   "outputs": [],
   "source": [
    "n=1000\n",
    "lw=2\n",
    "\n",
    "p=plot()\n",
    "pplot!(p, getTargets(n)[13:end]; linewidth=3, size=(700,500), color=:black, xlim=[0,200],ylim=[0.2,1.3],label=\"Observation\")\n",
    "\n",
    "args = [\n",
    "    :linewidth=>2.5,\n",
    "    :linestyle=>:dash,\n",
    "    :legend=>:best\n",
    "]\n",
    "plotNormalizedReturn!(p,n, 0.0; args...)\n",
    "plotNormalizedReturn!(p,n, 0.75; args...)\n",
    "plotNormalizedReturn!(p,n, 0.90; args...)\n",
    "plotNormalizedReturn!(p,n, 0.96; args...)\n",
    "plot(p, legend=:best, xlabel=\"Steps\")"
   ]
  },
  {
   "cell_type": "code",
   "execution_count": null,
   "metadata": {
    "collapsed": true
   },
   "outputs": [],
   "source": [
    "savefig(p, \"mg_Predictions2.png\")"
   ]
  },
  {
   "cell_type": "code",
   "execution_count": null,
   "metadata": {
    "collapsed": true
   },
   "outputs": [],
   "source": []
  }
 ],
 "metadata": {
  "@webio": {
   "lastCommId": null,
   "lastKernelId": null
  },
  "kernelspec": {
   "display_name": "Julia 1.3.1",
   "language": "julia",
   "name": "julia-1.3"
  },
  "language_info": {
   "file_extension": ".jl",
   "mimetype": "application/julia",
   "name": "julia",
   "version": "1.3.1"
  }
 },
 "nbformat": 4,
 "nbformat_minor": 2
}
