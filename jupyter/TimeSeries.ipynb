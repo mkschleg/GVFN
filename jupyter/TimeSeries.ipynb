{
 "cells": [
  {
   "cell_type": "code",
   "execution_count": 1,
   "metadata": {},
   "outputs": [
    {
     "name": "stdout",
     "output_type": "stream",
     "text": [
      "\u001b[32m\u001b[1mActivating\u001b[22m\u001b[39m environment at `~/GVFN/Project.toml`\n"
     ]
    },
    {
     "name": "stderr",
     "output_type": "stream",
     "text": [
      "┌ Info: Precompiling Plots [91a5bcdd-55d7-5caf-9e0b-520d859cae80]\n",
      "└ @ Base loading.jl:1273\n",
      "┌ Info: Precompiling PyPlot [d330b81b-6aea-500a-939a-2ce795aea3ee]\n",
      "└ @ Base loading.jl:1273\n",
      "┌ Warning: `getindex(o::PyObject, s::AbstractString)` is deprecated in favor of dot overloading (`getproperty`) so elements should now be accessed as e.g. `o.\"s\"` instead of `o[\"s\"]`.\n",
      "│   caller = top-level scope at pyplot.jl:24\n",
      "└ @ Core /home/andrew/.julia/packages/Plots/gylTh/src/backends/pyplot.jl:24\n",
      "┌ Info: Precompiling Reproduce [560a9c3a-0b8c-11e9-0329-d39dfcb85ed2]\n",
      "└ @ Base loading.jl:1273\n"
     ]
    },
    {
     "data": {
      "text/plain": [
       "\"../working_data/\""
      ]
     },
     "execution_count": 1,
     "metadata": {},
     "output_type": "execute_result"
    }
   ],
   "source": [
    "using Pkg; Pkg.activate(\"..\")\n",
    "using Plots; pyplot()\n",
    "using Reproduce\n",
    "using FileIO\n",
    "using Statistics\n",
    "using ProgressMeter\n",
    "data_home = \"../working_data/\""
   ]
  },
  {
   "cell_type": "code",
   "execution_count": 2,
   "metadata": {},
   "outputs": [],
   "source": [
    "Plots.scalefontsizes(1.5)"
   ]
  },
  {
   "cell_type": "code",
   "execution_count": 3,
   "metadata": {},
   "outputs": [
    {
     "name": "stderr",
     "output_type": "stream",
     "text": [
      "┌ Warning: `getindex(f::Figure, x)` is deprecated, use `getproperty(f, x)` instead.\n",
      "│   caller = _before_layout_calcs(::Plots.Plot{Plots.PyPlotBackend}) at pyplot.jl:935\n",
      "└ @ Plots /home/andrew/.julia/packages/Plots/gylTh/src/backends/pyplot.jl:935\n",
      "┌ Warning: `getindex(f::Figure, x)` is deprecated, use `getproperty(f, x)` instead.\n",
      "│   caller = _before_layout_calcs(::Plots.Plot{Plots.PyPlotBackend}) at pyplot.jl:937\n",
      "└ @ Plots /home/andrew/.julia/packages/Plots/gylTh/src/backends/pyplot.jl:937\n",
      "┌ Warning: `getindex(f::Figure, x)` is deprecated, use `getproperty(f, x)` instead.\n",
      "│   caller = _before_layout_calcs(::Plots.Plot{Plots.PyPlotBackend}) at pyplot.jl:938\n",
      "└ @ Plots /home/andrew/.julia/packages/Plots/gylTh/src/backends/pyplot.jl:938\n",
      "┌ Warning: `getindex(f::Figure, x)` is deprecated, use `getproperty(f, x)` instead.\n",
      "│   caller = _before_layout_calcs(::Plots.Plot{Plots.PyPlotBackend}) at pyplot.jl:939\n",
      "└ @ Plots /home/andrew/.julia/packages/Plots/gylTh/src/backends/pyplot.jl:939\n",
      "┌ Warning: `getindex(o::PyObject, s::Symbol)` is deprecated in favor of dot overloading (`getproperty`) so elements should now be accessed as e.g. `o.s` instead of `o[:s]`.\n",
      "│   caller = _before_layout_calcs(::Plots.Plot{Plots.PyPlotBackend}) at pyplot.jl:942\n",
      "└ @ Plots /home/andrew/.julia/packages/Plots/gylTh/src/backends/pyplot.jl:942\n",
      "┌ Warning: `getindex(o::PyObject, s::Symbol)` is deprecated in favor of dot overloading (`getproperty`) so elements should now be accessed as e.g. `o.s` instead of `o[:s]`.\n",
      "│   caller = _before_layout_calcs(::Plots.Plot{Plots.PyPlotBackend}) at pyplot.jl:942\n",
      "└ @ Plots /home/andrew/.julia/packages/Plots/gylTh/src/backends/pyplot.jl:942\n",
      "┌ Warning: `getindex(f::Figure, x)` is deprecated, use `getproperty(f, x)` instead.\n",
      "│   caller = py_init_subplot(::Plots.Plot{Plots.PyPlotBackend}, ::Plots.Subplot{Plots.PyPlotBackend}) at pyplot.jl:342\n",
      "└ @ Plots /home/andrew/.julia/packages/Plots/gylTh/src/backends/pyplot.jl:342\n",
      "┌ Warning: `getindex(o::PyObject, s::Symbol)` is deprecated in favor of dot overloading (`getproperty`) so elements should now be accessed as e.g. `o.s` instead of `o[:s]`.\n",
      "│   caller = py_add_series(::Plots.Plot{Plots.PyPlotBackend}, ::Plots.Series) at pyplot.jl:443\n",
      "└ @ Plots /home/andrew/.julia/packages/Plots/gylTh/src/backends/pyplot.jl:443\n",
      "┌ Warning: `getindex(o::PyObject, s::Symbol)` is deprecated in favor of dot overloading (`getproperty`) so elements should now be accessed as e.g. `o.s` instead of `o[:s]`.\n",
      "│   caller = _before_layout_calcs(::Plots.Plot{Plots.PyPlotBackend}) at pyplot.jl:1029\n",
      "└ @ Plots /home/andrew/.julia/packages/Plots/gylTh/src/backends/pyplot.jl:1029\n",
      "┌ Warning: `getindex(o::PyObject, s::Symbol)` is deprecated in favor of dot overloading (`getproperty`) so elements should now be accessed as e.g. `o.s` instead of `o[:s]`.\n",
      "│   caller = _before_layout_calcs(::Plots.Plot{Plots.PyPlotBackend}) at pyplot.jl:1029\n",
      "└ @ Plots /home/andrew/.julia/packages/Plots/gylTh/src/backends/pyplot.jl:1029\n",
      "┌ Warning: `getindex(o::PyObject, s::Symbol)` is deprecated in favor of dot overloading (`getproperty`) so elements should now be accessed as e.g. `o.s` instead of `o[:s]`.\n",
      "│   caller = _before_layout_calcs(::Plots.Plot{Plots.PyPlotBackend}) at pyplot.jl:1030\n",
      "└ @ Plots /home/andrew/.julia/packages/Plots/gylTh/src/backends/pyplot.jl:1030\n",
      "┌ Warning: `getindex(o::PyObject, s::Symbol)` is deprecated in favor of dot overloading (`getproperty`) so elements should now be accessed as e.g. `o.s` instead of `o[:s]`.\n",
      "│   caller = _before_layout_calcs(::Plots.Plot{Plots.PyPlotBackend}) at pyplot.jl:1030\n",
      "└ @ Plots /home/andrew/.julia/packages/Plots/gylTh/src/backends/pyplot.jl:1030\n",
      "┌ Warning: `getindex(o::PyObject, s::Symbol)` is deprecated in favor of dot overloading (`getproperty`) so elements should now be accessed as e.g. `o.s` instead of `o[:s]`.\n",
      "│   caller = _before_layout_calcs(::Plots.Plot{Plots.PyPlotBackend}) at pyplot.jl:1038\n",
      "└ @ Plots /home/andrew/.julia/packages/Plots/gylTh/src/backends/pyplot.jl:1038\n",
      "┌ Warning: `getindex(o::PyObject, s::Symbol)` is deprecated in favor of dot overloading (`getproperty`) so elements should now be accessed as e.g. `o.s` instead of `o[:s]`.\n",
      "│   caller = _before_layout_calcs(::Plots.Plot{Plots.PyPlotBackend}) at pyplot.jl:1038\n",
      "└ @ Plots /home/andrew/.julia/packages/Plots/gylTh/src/backends/pyplot.jl:1038\n",
      "┌ Warning: `getindex(o::PyObject, s::Symbol)` is deprecated in favor of dot overloading (`getproperty`) so elements should now be accessed as e.g. `o.s` instead of `o[:s]`.\n",
      "│   caller = _before_layout_calcs(::Plots.Plot{Plots.PyPlotBackend}) at pyplot.jl:1039\n",
      "└ @ Plots /home/andrew/.julia/packages/Plots/gylTh/src/backends/pyplot.jl:1039\n",
      "┌ Warning: `getindex(o::PyObject, s::Symbol)` is deprecated in favor of dot overloading (`getproperty`) so elements should now be accessed as e.g. `o.s` instead of `o[:s]`.\n",
      "│   caller = _before_layout_calcs(::Plots.Plot{Plots.PyPlotBackend}) at pyplot.jl:1039\n",
      "└ @ Plots /home/andrew/.julia/packages/Plots/gylTh/src/backends/pyplot.jl:1039\n",
      "┌ Warning: `haskey(o::PyObject, s::Union{Symbol, AbstractString})` is deprecated, use `hasproperty(o, s)` instead.\n",
      "│   caller = _before_layout_calcs(::Plots.Plot{Plots.PyPlotBackend}) at pyplot.jl:1058\n",
      "└ @ Plots /home/andrew/.julia/packages/Plots/gylTh/src/backends/pyplot.jl:1058\n",
      "┌ Warning: `getindex(o::PyObject, s::Symbol)` is deprecated in favor of dot overloading (`getproperty`) so elements should now be accessed as e.g. `o.s` instead of `o[:s]`.\n",
      "│   caller = _before_layout_calcs(::Plots.Plot{Plots.PyPlotBackend}) at pyplot.jl:1060\n",
      "└ @ Plots /home/andrew/.julia/packages/Plots/gylTh/src/backends/pyplot.jl:1060\n",
      "┌ Warning: `getindex(o::PyObject, s::Symbol)` is deprecated in favor of dot overloading (`getproperty`) so elements should now be accessed as e.g. `o.s` instead of `o[:s]`.\n",
      "│   caller = py_set_scale(::PyCall.PyObject, ::Plots.Axis) at pyplot.jl:894\n",
      "└ @ Plots /home/andrew/.julia/packages/Plots/gylTh/src/backends/pyplot.jl:894\n",
      "┌ Warning: `getindex(o::PyObject, s::Symbol)` is deprecated in favor of dot overloading (`getproperty`) so elements should now be accessed as e.g. `o.s` instead of `o[:s]`.\n",
      "│   caller = py_set_lims(::PyCall.PyObject, ::Plots.Axis) at pyplot.jl:844\n",
      "└ @ Plots /home/andrew/.julia/packages/Plots/gylTh/src/backends/pyplot.jl:844\n",
      "┌ Warning: `getindex(o::PyObject, s::Symbol)` is deprecated in favor of dot overloading (`getproperty`) so elements should now be accessed as e.g. `o.s` instead of `o[:s]`.\n",
      "│   caller = py_set_ticks(::PyCall.PyObject, ::Tuple{Array{Float64,1},Array{String,1}}, ::Symbol) at pyplot.jl:849\n",
      "└ @ Plots /home/andrew/.julia/packages/Plots/gylTh/src/backends/pyplot.jl:849\n",
      "┌ Warning: `getindex(o::PyObject, s::Symbol)` is deprecated in favor of dot overloading (`getproperty`) so elements should now be accessed as e.g. `o.s` instead of `o[:s]`.\n",
      "│   caller = py_set_ticks(::PyCall.PyObject, ::Tuple{Array{Float64,1},Array{String,1}}, ::Symbol) at pyplot.jl:863\n",
      "└ @ Plots /home/andrew/.julia/packages/Plots/gylTh/src/backends/pyplot.jl:863\n",
      "┌ Warning: `getindex(o::PyObject, s::Symbol)` is deprecated in favor of dot overloading (`getproperty`) so elements should now be accessed as e.g. `o.s` instead of `o[:s]`.\n",
      "│   caller = py_set_ticks(::PyCall.PyObject, ::Tuple{Array{Float64,1},Array{String,1}}, ::Symbol) at pyplot.jl:864\n",
      "└ @ Plots /home/andrew/.julia/packages/Plots/gylTh/src/backends/pyplot.jl:864\n",
      "┌ Warning: `getindex(o::PyObject, s::Symbol)` is deprecated in favor of dot overloading (`getproperty`) so elements should now be accessed as e.g. `o.s` instead of `o[:s]`.\n",
      "│   caller = _before_layout_calcs(::Plots.Plot{Plots.PyPlotBackend}) at pyplot.jl:1081\n",
      "└ @ Plots /home/andrew/.julia/packages/Plots/gylTh/src/backends/pyplot.jl:1081\n",
      "┌ Warning: `getindex(o::PyObject, s::Symbol)` is deprecated in favor of dot overloading (`getproperty`) so elements should now be accessed as e.g. `o.s` instead of `o[:s]`.\n",
      "│   caller = _before_layout_calcs(::Plots.Plot{Plots.PyPlotBackend}) at pyplot.jl:1082\n",
      "└ @ Plots /home/andrew/.julia/packages/Plots/gylTh/src/backends/pyplot.jl:1082\n",
      "┌ Warning: `getindex(o::PyObject, s::Symbol)` is deprecated in favor of dot overloading (`getproperty`) so elements should now be accessed as e.g. `o.s` instead of `o[:s]`.\n",
      "│   caller = _before_layout_calcs(::Plots.Plot{Plots.PyPlotBackend}) at pyplot.jl:1086\n",
      "└ @ Plots /home/andrew/.julia/packages/Plots/gylTh/src/backends/pyplot.jl:1086\n",
      "┌ Warning: `getindex(o::PyObject, s::Symbol)` is deprecated in favor of dot overloading (`getproperty`) so elements should now be accessed as e.g. `o.s` instead of `o[:s]`.\n",
      "│   caller = _before_layout_calcs(::Plots.Plot{Plots.PyPlotBackend}) at pyplot.jl:1086\n",
      "└ @ Plots /home/andrew/.julia/packages/Plots/gylTh/src/backends/pyplot.jl:1086\n",
      "┌ Warning: `getindex(o::PyObject, s::Symbol)` is deprecated in favor of dot overloading (`getproperty`) so elements should now be accessed as e.g. `o.s` instead of `o[:s]`.\n",
      "│   caller = _before_layout_calcs(::Plots.Plot{Plots.PyPlotBackend}) at pyplot.jl:1087\n",
      "└ @ Plots /home/andrew/.julia/packages/Plots/gylTh/src/backends/pyplot.jl:1087\n",
      "┌ Warning: `getindex(o::PyObject, s::Symbol)` is deprecated in favor of dot overloading (`getproperty`) so elements should now be accessed as e.g. `o.s` instead of `o[:s]`.\n",
      "│   caller = _before_layout_calcs(::Plots.Plot{Plots.PyPlotBackend}) at pyplot.jl:1087\n",
      "└ @ Plots /home/andrew/.julia/packages/Plots/gylTh/src/backends/pyplot.jl:1087\n",
      "┌ Warning: `getindex(o::PyObject, s::Symbol)` is deprecated in favor of dot overloading (`getproperty`) so elements should now be accessed as e.g. `o.s` instead of `o[:s]`.\n",
      "│   caller = _before_layout_calcs(::Plots.Plot{Plots.PyPlotBackend}) at pyplot.jl:1088\n",
      "└ @ Plots /home/andrew/.julia/packages/Plots/gylTh/src/backends/pyplot.jl:1088\n",
      "┌ Warning: `getindex(o::PyObject, s::Symbol)` is deprecated in favor of dot overloading (`getproperty`) so elements should now be accessed as e.g. `o.s` instead of `o[:s]`.\n",
      "│   caller = _before_layout_calcs(::Plots.Plot{Plots.PyPlotBackend}) at pyplot.jl:1089\n",
      "└ @ Plots /home/andrew/.julia/packages/Plots/gylTh/src/backends/pyplot.jl:1089\n",
      "┌ Warning: `getindex(o::PyObject, s::Symbol)` is deprecated in favor of dot overloading (`getproperty`) so elements should now be accessed as e.g. `o.s` instead of `o[:s]`.\n",
      "│   caller = _before_layout_calcs(::Plots.Plot{Plots.PyPlotBackend}) at pyplot.jl:1090\n",
      "└ @ Plots /home/andrew/.julia/packages/Plots/gylTh/src/backends/pyplot.jl:1090\n",
      "┌ Warning: `getindex(o::PyObject, s::Symbol)` is deprecated in favor of dot overloading (`getproperty`) so elements should now be accessed as e.g. `o.s` instead of `o[:s]`.\n",
      "│   caller = _before_layout_calcs(::Plots.Plot{Plots.PyPlotBackend}) at pyplot.jl:1091\n",
      "└ @ Plots /home/andrew/.julia/packages/Plots/gylTh/src/backends/pyplot.jl:1091\n",
      "┌ Warning: `getindex(o::PyObject, s::Symbol)` is deprecated in favor of dot overloading (`getproperty`) so elements should now be accessed as e.g. `o.s` instead of `o[:s]`.\n",
      "│   caller = _before_layout_calcs(::Plots.Plot{Plots.PyPlotBackend}) at pyplot.jl:1095\n",
      "└ @ Plots /home/andrew/.julia/packages/Plots/gylTh/src/backends/pyplot.jl:1095\n"
     ]
    },
    {
     "name": "stderr",
     "output_type": "stream",
     "text": [
      "┌ Warning: `getindex(o::PyObject, s::Symbol)` is deprecated in favor of dot overloading (`getproperty`) so elements should now be accessed as e.g. `o.s` instead of `o[:s]`.\n",
      "│   caller = _before_layout_calcs(::Plots.Plot{Plots.PyPlotBackend}) at pyplot.jl:1100\n",
      "└ @ Plots /home/andrew/.julia/packages/Plots/gylTh/src/backends/pyplot.jl:1100\n",
      "┌ Warning: `getindex(o::PyObject, s::Symbol)` is deprecated in favor of dot overloading (`getproperty`) so elements should now be accessed as e.g. `o.s` instead of `o[:s]`.\n",
      "│   caller = py_set_axis_colors(::Plots.Subplot{Plots.PyPlotBackend}, ::PyCall.PyObject, ::Plots.Axis) at pyplot.jl:914\n",
      "└ @ Plots /home/andrew/.julia/packages/Plots/gylTh/src/backends/pyplot.jl:914\n",
      "┌ Warning: `getindex(o::PyObject, s::Symbol)` is deprecated in favor of dot overloading (`getproperty`) so elements should now be accessed as e.g. `o.s` instead of `o[:s]`.\n",
      "│   caller = py_set_axis_colors(::Plots.Subplot{Plots.PyPlotBackend}, ::PyCall.PyObject, ::Plots.Axis) at pyplot.jl:915\n",
      "└ @ Plots /home/andrew/.julia/packages/Plots/gylTh/src/backends/pyplot.jl:915\n",
      "┌ Warning: `haskey(o::PyObject, s::Union{Symbol, AbstractString})` is deprecated, use `hasproperty(o, s)` instead.\n",
      "│   caller = py_set_axis_colors(::Plots.Subplot{Plots.PyPlotBackend}, ::PyCall.PyObject, ::Plots.Axis) at pyplot.jl:918\n",
      "└ @ Plots /home/andrew/.julia/packages/Plots/gylTh/src/backends/pyplot.jl:918\n",
      "┌ Warning: `getindex(o::PyObject, s::Symbol)` is deprecated in favor of dot overloading (`getproperty`) so elements should now be accessed as e.g. `o.s` instead of `o[:s]`.\n",
      "│   caller = py_set_axis_colors(::Plots.Subplot{Plots.PyPlotBackend}, ::PyCall.PyObject, ::Plots.Axis) at pyplot.jl:920\n",
      "└ @ Plots /home/andrew/.julia/packages/Plots/gylTh/src/backends/pyplot.jl:920\n",
      "┌ Warning: `getindex(o::PyObject, s::Symbol)` is deprecated in favor of dot overloading (`getproperty`) so elements should now be accessed as e.g. `o.s` instead of `o[:s]`.\n",
      "│   caller = py_set_axis_colors(::Plots.Subplot{Plots.PyPlotBackend}, ::PyCall.PyObject, ::Plots.Axis) at pyplot.jl:923\n",
      "└ @ Plots /home/andrew/.julia/packages/Plots/gylTh/src/backends/pyplot.jl:923\n",
      "┌ Warning: `getindex(o::PyObject, s::Symbol)` is deprecated in favor of dot overloading (`getproperty`) so elements should now be accessed as e.g. `o.s` instead of `o[:s]`.\n",
      "│   caller = py_set_axis_colors(::Plots.Subplot{Plots.PyPlotBackend}, ::PyCall.PyObject, ::Plots.Axis) at pyplot.jl:923\n",
      "└ @ Plots /home/andrew/.julia/packages/Plots/gylTh/src/backends/pyplot.jl:923\n",
      "┌ Warning: `getindex(o::PyObject, s::Symbol)` is deprecated in favor of dot overloading (`getproperty`) so elements should now be accessed as e.g. `o.s` instead of `o[:s]`.\n",
      "│   caller = py_set_axis_colors(::Plots.Subplot{Plots.PyPlotBackend}, ::PyCall.PyObject, ::Plots.Axis) at pyplot.jl:923\n",
      "└ @ Plots /home/andrew/.julia/packages/Plots/gylTh/src/backends/pyplot.jl:923\n",
      "┌ Warning: `getindex(o::PyObject, s::Symbol)` is deprecated in favor of dot overloading (`getproperty`) so elements should now be accessed as e.g. `o.s` instead of `o[:s]`.\n",
      "│   caller = py_add_legend(::Plots.Plot{Plots.PyPlotBackend}, ::Plots.Subplot{Plots.PyPlotBackend}, ::PyCall.PyObject) at pyplot.jl:1254\n",
      "└ @ Plots /home/andrew/.julia/packages/Plots/gylTh/src/backends/pyplot.jl:1254\n",
      "┌ Warning: `getindex(o::PyObject, s::Symbol)` is deprecated in favor of dot overloading (`getproperty`) so elements should now be accessed as e.g. `o.s` instead of `o[:s]`.\n",
      "│   caller = py_add_legend(::Plots.Plot{Plots.PyPlotBackend}, ::Plots.Subplot{Plots.PyPlotBackend}, ::PyCall.PyObject) at pyplot.jl:1271\n",
      "└ @ Plots /home/andrew/.julia/packages/Plots/gylTh/src/backends/pyplot.jl:1271\n",
      "┌ Warning: `getindex(o::PyObject, s::Symbol)` is deprecated in favor of dot overloading (`getproperty`) so elements should now be accessed as e.g. `o.s` instead of `o[:s]`.\n",
      "│   caller = py_add_legend(::Plots.Plot{Plots.PyPlotBackend}, ::Plots.Subplot{Plots.PyPlotBackend}, ::PyCall.PyObject) at pyplot.jl:1280\n",
      "└ @ Plots /home/andrew/.julia/packages/Plots/gylTh/src/backends/pyplot.jl:1280\n",
      "┌ Warning: `getindex(o::PyObject, s::Symbol)` is deprecated in favor of dot overloading (`getproperty`) so elements should now be accessed as e.g. `o.s` instead of `o[:s]`.\n",
      "│   caller = py_add_legend(::Plots.Plot{Plots.PyPlotBackend}, ::Plots.Subplot{Plots.PyPlotBackend}, ::PyCall.PyObject) at pyplot.jl:1281\n",
      "└ @ Plots /home/andrew/.julia/packages/Plots/gylTh/src/backends/pyplot.jl:1281\n",
      "┌ Warning: `getindex(o::PyObject, s::Symbol)` is deprecated in favor of dot overloading (`getproperty`) so elements should now be accessed as e.g. `o.s` instead of `o[:s]`.\n",
      "│   caller = py_add_legend(::Plots.Plot{Plots.PyPlotBackend}, ::Plots.Subplot{Plots.PyPlotBackend}, ::PyCall.PyObject) at pyplot.jl:1282\n",
      "└ @ Plots /home/andrew/.julia/packages/Plots/gylTh/src/backends/pyplot.jl:1282\n",
      "┌ Warning: `getindex(o::PyObject, s::Symbol)` is deprecated in favor of dot overloading (`getproperty`) so elements should now be accessed as e.g. `o.s` instead of `o[:s]`.\n",
      "│   caller = py_add_legend(::Plots.Plot{Plots.PyPlotBackend}, ::Plots.Subplot{Plots.PyPlotBackend}, ::PyCall.PyObject) at pyplot.jl:1285\n",
      "└ @ Plots /home/andrew/.julia/packages/Plots/gylTh/src/backends/pyplot.jl:1285\n",
      "┌ Warning: `getindex(o::PyObject, s::Symbol)` is deprecated in favor of dot overloading (`getproperty`) so elements should now be accessed as e.g. `o.s` instead of `o[:s]`.\n",
      "│   caller = py_add_legend(::Plots.Plot{Plots.PyPlotBackend}, ::Plots.Subplot{Plots.PyPlotBackend}, ::PyCall.PyObject) at pyplot.jl:1286\n",
      "└ @ Plots /home/andrew/.julia/packages/Plots/gylTh/src/backends/pyplot.jl:1286\n",
      "┌ Warning: `getindex(o::PyObject, s::Symbol)` is deprecated in favor of dot overloading (`getproperty`) so elements should now be accessed as e.g. `o.s` instead of `o[:s]`.\n",
      "│   caller = _before_layout_calcs(::Plots.Plot{Plots.PyPlotBackend}) at pyplot.jl:1148\n",
      "└ @ Plots /home/andrew/.julia/packages/Plots/gylTh/src/backends/pyplot.jl:1148\n",
      "┌ Warning: `getindex(f::Figure, x)` is deprecated, use `getproperty(f, x)` instead.\n",
      "│   caller = py_drawfig(::PyPlot.Figure) at pyplot.jl:257\n",
      "└ @ Plots /home/andrew/.julia/packages/Plots/gylTh/src/backends/pyplot.jl:257\n",
      "┌ Warning: `getindex(f::Figure, x)` is deprecated, use `getproperty(f, x)` instead.\n",
      "│   caller = py_canvas at pyplot.jl:251 [inlined]\n",
      "└ @ Core /home/andrew/.julia/packages/Plots/gylTh/src/backends/pyplot.jl:251\n",
      "┌ Warning: `getindex(o::PyObject, s::Symbol)` is deprecated in favor of dot overloading (`getproperty`) so elements should now be accessed as e.g. `o.s` instead of `o[:s]`.\n",
      "│   caller = py_renderer(::PyPlot.Figure) at pyplot.jl:254\n",
      "└ @ Plots /home/andrew/.julia/packages/Plots/gylTh/src/backends/pyplot.jl:254\n",
      "┌ Warning: `getindex(o::PyObject, s::Symbol)` is deprecated in favor of dot overloading (`getproperty`) so elements should now be accessed as e.g. `o.s` instead of `o[:s]`.\n",
      "│   caller = py_bbox(::PyCall.PyObject) at pyplot.jl:266\n",
      "└ @ Plots /home/andrew/.julia/packages/Plots/gylTh/src/backends/pyplot.jl:266\n",
      "┌ Warning: `getindex(f::Figure, x)` is deprecated, use `getproperty(f, x)` instead.\n",
      "│   caller = py_extents(::PyPlot.Figure) at pyplot.jl:261\n",
      "└ @ Plots /home/andrew/.julia/packages/Plots/gylTh/src/backends/pyplot.jl:261\n",
      "┌ Warning: `getindex(o::PyObject, s::Symbol)` is deprecated in favor of dot overloading (`getproperty`) so elements should now be accessed as e.g. `o.s` instead of `o[:s]`.\n",
      "│   caller = py_extents(::PyPlot.Figure) at pyplot.jl:261\n",
      "└ @ Plots /home/andrew/.julia/packages/Plots/gylTh/src/backends/pyplot.jl:261\n",
      "┌ Warning: `getindex(o::PyObject, s::Symbol)` is deprecated in favor of dot overloading (`getproperty`) so elements should now be accessed as e.g. `o.s` instead of `o[:s]`.\n",
      "│   caller = py_extents(::PyCall.PyObject) at pyplot.jl:261\n",
      "└ @ Plots /home/andrew/.julia/packages/Plots/gylTh/src/backends/pyplot.jl:261\n",
      "┌ Warning: `getindex(o::PyObject, s::Symbol)` is deprecated in favor of dot overloading (`getproperty`) so elements should now be accessed as e.g. `o.s` instead of `o[:s]`.\n",
      "│   caller = py_extents(::PyCall.PyObject) at pyplot.jl:261\n",
      "└ @ Plots /home/andrew/.julia/packages/Plots/gylTh/src/backends/pyplot.jl:261\n",
      "┌ Warning: `getindex(o::PyObject, s::Symbol)` is deprecated in favor of dot overloading (`getproperty`) so elements should now be accessed as e.g. `o.s` instead of `o[:s]`.\n",
      "│   caller = py_bbox_ticks(::PyCall.PyObject, ::String) at pyplot.jl:282\n",
      "└ @ Plots /home/andrew/.julia/packages/Plots/gylTh/src/backends/pyplot.jl:282\n",
      "┌ Warning: `getindex(o::PyObject, s::Symbol)` is deprecated in favor of dot overloading (`getproperty`) so elements should now be accessed as e.g. `o.s` instead of `o[:s]`.\n",
      "│   caller = py_bbox_axislabel(::PyCall.PyObject, ::String) at pyplot.jl:288\n",
      "└ @ Plots /home/andrew/.julia/packages/Plots/gylTh/src/backends/pyplot.jl:288\n"
     ]
    },
    {
     "name": "stderr",
     "output_type": "stream",
     "text": [
      "┌ Warning: `getindex(o::PyObject, s::Symbol)` is deprecated in favor of dot overloading (`getproperty`) so elements should now be accessed as e.g. `o.s` instead of `o[:s]`.\n",
      "│   caller = py_bbox_axislabel(::PyCall.PyObject, ::String) at pyplot.jl:288\n",
      "└ @ Plots /home/andrew/.julia/packages/Plots/gylTh/src/backends/pyplot.jl:288\n",
      "┌ Warning: `getindex(o::PyObject, s::Symbol)` is deprecated in favor of dot overloading (`getproperty`) so elements should now be accessed as e.g. `o.s` instead of `o[:s]`.\n",
      "│   caller = py_bbox_title(::PyCall.PyObject) at pyplot.jl:304\n",
      "└ @ Plots /home/andrew/.julia/packages/Plots/gylTh/src/backends/pyplot.jl:304\n",
      "┌ Warning: `getindex(o::PyObject, s::Symbol)` is deprecated in favor of dot overloading (`getproperty`) so elements should now be accessed as e.g. `o.s` instead of `o[:s]`.\n",
      "│   caller = py_bbox_title(::PyCall.PyObject) at pyplot.jl:304\n",
      "└ @ Plots /home/andrew/.julia/packages/Plots/gylTh/src/backends/pyplot.jl:304\n",
      "┌ Warning: `getindex(o::PyObject, s::Symbol)` is deprecated in favor of dot overloading (`getproperty`) so elements should now be accessed as e.g. `o.s` instead of `o[:s]`.\n",
      "│   caller = py_bbox_title(::PyCall.PyObject) at pyplot.jl:304\n",
      "└ @ Plots /home/andrew/.julia/packages/Plots/gylTh/src/backends/pyplot.jl:304\n"
     ]
    },
    {
     "data": {
      "image/png": "[encoded data removed]"
     },
     "execution_count": 3,
     "metadata": {},
     "output_type": "execute_result"
    },
    {
     "name": "stderr",
     "output_type": "stream",
     "text": [
      "┌ Warning: `getindex(o::PyObject, s::Symbol)` is deprecated in favor of dot overloading (`getproperty`) so elements should now be accessed as e.g. `o.s` instead of `o[:s]`.\n",
      "│   caller = _update_plot_object(::Plots.Plot{Plots.PyPlotBackend}) at pyplot.jl:1304\n",
      "└ @ Plots /home/andrew/.julia/packages/Plots/gylTh/src/backends/pyplot.jl:1304\n",
      "┌ Warning: `getindex(f::Figure, x)` is deprecated, use `getproperty(f, x)` instead.\n",
      "│   caller = _show(::Base64.Base64EncodePipe, ::MIME{Symbol(\"image/png\")}, ::Plots.Plot{Plots.PyPlotBackend}) at pyplot.jl:1343\n",
      "└ @ Plots /home/andrew/.julia/packages/Plots/gylTh/src/backends/pyplot.jl:1343\n",
      "┌ Warning: `getindex(o::PyObject, s::Symbol)` is deprecated in favor of dot overloading (`getproperty`) so elements should now be accessed as e.g. `o.s` instead of `o[:s]`.\n",
      "│   caller = _show(::Base64.Base64EncodePipe, ::MIME{Symbol(\"image/png\")}, ::Plots.Plot{Plots.PyPlotBackend}) at pyplot.jl:1343\n",
      "└ @ Plots /home/andrew/.julia/packages/Plots/gylTh/src/backends/pyplot.jl:1343\n",
      "┌ Warning: `getindex(f::Figure, x)` is deprecated, use `getproperty(f, x)` instead.\n",
      "│   caller = _show(::Base64.Base64EncodePipe, ::MIME{Symbol(\"image/png\")}, ::Plots.Plot{Plots.PyPlotBackend}) at pyplot.jl:1343\n",
      "└ @ Plots /home/andrew/.julia/packages/Plots/gylTh/src/backends/pyplot.jl:1343\n"
     ]
    }
   ],
   "source": [
    "# Get the stupid pyplot warnings out of the way\n",
    "p=plot(rand(100))\n",
    "plot(p, size=(100,100))"
   ]
  },
  {
   "cell_type": "code",
   "execution_count": 19,
   "metadata": {},
   "outputs": [
    {
     "data": {
      "text/plain": [
       "get_sensitivity (generic function with 1 method)"
      ]
     },
     "execution_count": 19,
     "metadata": {},
     "output_type": "execute_result"
    }
   ],
   "source": [
    "# ==================\n",
    "# --- DATA UTILS ---\n",
    "# ==================\n",
    "\n",
    "loadData(itm) = FileIO.load(joinpath(itm.folder_str,\"results.jld2\"))[\"results\"]\n",
    "TrainingNRMSE(itm) = loadData(itm)[\"TrainingNRMSE\"]\n",
    "ValidationNRMSE(itm) = loadData(itm)[\"ValidationNRMSE\"]\n",
    "TestNRMSE(itm) = loadData(itm)[\"TestNRMSE\"]\n",
    "\n",
    "function avgOverRuns(ic, getData::Function; runsKey = \"seed\")\n",
    "\n",
    "    diff_dict = diff(ic)\n",
    "    @assert length(collect(keys(diff_dict))) == 1\n",
    "    @assert collect(keys(diff_dict))[1] == runsKey\n",
    "    \n",
    "    itms = ic.items\n",
    "    res = Vector{Float64}[]\n",
    "    for (itm_idx, itm) ∈ enumerate(itms)\n",
    "        push!(res, getData(itm))\n",
    "    end\n",
    "    \n",
    "    vals = zeros(length(res[1]),length(res))\n",
    "    for i=1:length(res)\n",
    "        vals[:,i] .= res[i]\n",
    "    end\n",
    "    \n",
    "    μ = mean(vals,dims=2)\n",
    "    σ = std(vals, dims=2, corrected=true)./sqrt(length(itms))\n",
    "    \n",
    "    return μ, σ\n",
    "end\n",
    "\n",
    "cfgDict(diff, arg_tuple) = Dict(Pair.(keys(diff),arg_tuple))\n",
    "\n",
    "function get_best_setting(ic::ItemCollection, params::Dict; output_data=TrainingNRMSE)\n",
    "    sub_ic = search(ic, params)\n",
    "    \n",
    "    # get all param settings, ignoring runs\n",
    "    sub_diff = diff(sub_ic)\n",
    "    delete!(sub_diff, \"seed\")\n",
    "    \n",
    "    iter = Iterators.product(values(sub_diff)...)\n",
    "    best = Inf\n",
    "    bestIC = nothing\n",
    "    bestData = nothing\n",
    "    for arg ∈ iter\n",
    "        ic′ = search(sub_ic, cfgDict(sub_diff, arg))\n",
    "        μ,_ = avgOverRuns(ic′, ValidationNRMSE)\n",
    "        \n",
    "        μ = mean(μ)\n",
    "        if μ ≤ best\n",
    "            best = μ\n",
    "            bestIC = ic′\n",
    "        end\n",
    "    end\n",
    "    #@assert best != Inf\n",
    "    \n",
    "    return avgOverRuns(bestIC, output_data)\n",
    "end\n",
    "\n",
    "function get_sensitivity(ic::ItemCollection, param::String; phase = TrainingNRMSE)\n",
    "    params = diff(ic)[param]\n",
    "    \n",
    "    μs = Float64[]\n",
    "    σs = Float64[]\n",
    "    for p ∈ params\n",
    "        μ, σ = get_best_setting(ic, Dict(param=>p); output_data=phase)\n",
    "        push!(μs, mean(μ));\n",
    "        push!(σs, std(μ, corrected=true)/sqrt(length(μ)))\n",
    "    end\n",
    "    return μs, σs\n",
    "end"
   ]
  },
  {
   "cell_type": "code",
   "execution_count": 25,
   "metadata": {},
   "outputs": [
    {
     "data": {
      "text/plain": [
       "plot_sensitivity (generic function with 1 method)"
      ]
     },
     "execution_count": 25,
     "metadata": {},
     "output_type": "execute_result"
    }
   ],
   "source": [
    "# ==================\n",
    "# --- PLOT UTILS ---\n",
    "# ==================\n",
    "\n",
    "struct PlotSpec\n",
    "    ic::ItemCollection\n",
    "    model::String\n",
    "    key::String\n",
    "    smoothing_window::Int\n",
    "end\n",
    "\n",
    "function plot_best_settings(spec::PlotSpec)\n",
    "    ic = spec.ic\n",
    "    d = diff(ic)\n",
    "    \n",
    "    model = spec.model\n",
    "    τkey = spec.key\n",
    "    \n",
    "    p=plot()\n",
    "    for τ ∈ diff(ic)[τkey]\n",
    "        μ,σ = get_best_setting(ic, Dict(τkey=>τ))\n",
    "        \n",
    "        if spec.smoothing_window > 1\n",
    "            μ, σ = begin\n",
    "                \n",
    "                sm = Float64[]\n",
    "                smσ = Float64[]\n",
    "                window=spec.smoothing_window\n",
    "                for i=1:window:length(μ)-window\n",
    "                    push!(sm, mean(μ[i:i+window]))\n",
    "                    push!(smσ, mean(σ[i:i+window]))\n",
    "                end\n",
    "                sm, smσ\n",
    "            end\n",
    "        end\n",
    "        \n",
    "        xvals = collect(1:length(μ))\n",
    "        plot!(p, xvals, μ, ribbon=σ; label=\"$(model) τ=$τ\", ylabel=\"NRMSE\", xlabel=\"Steps\")\n",
    "    end\n",
    "    return p\n",
    "end\n",
    "\n",
    "function plot_sensitivity(spec::PlotSpec; phase=TrainingNRMSE)\n",
    "    ic, model, param = spec.ic, spec.model, spec.key\n",
    "    \n",
    "    μ, σ = get_sensitivity(ic, param; phase=phase)\n",
    "    plot(diff(ic)[param], μ, ribbon=σ; label=\"$(model)\", ylabel=\"Average NRMSE\", xlabel=param)\n",
    "end"
   ]
  },
  {
   "cell_type": "markdown",
   "metadata": {},
   "source": [
    "---\n",
    "# MackeyGlass\n",
    "---"
   ]
  },
  {
   "cell_type": "code",
   "execution_count": 15,
   "metadata": {},
   "outputs": [
    {
     "data": {
      "text/plain": [
       "2-element Array{Pair{Symbol,Any},1}:\n",
       " :ylim => [0.15, 0.7]\n",
       " :grid => false      "
      ]
     },
     "execution_count": 15,
     "metadata": {},
     "output_type": "execute_result"
    }
   ],
   "source": [
    "RNNSpec(ic, param; window=1) = PlotSpec(ic, \"RNN\", param, window)\n",
    "GVFNSpec(ic, param; window=1) = PlotSpec(ic, \"GVFN\", param, window)\n",
    "\n",
    "RNNSpec(ic; window=1) = RNNSpec(ic, \"rnn_tau\"; window=window)\n",
    "GVFNSpec(ic; window=1) = GVFNSpec(ic, \"gvfn_tau\"; window=window)\n",
    "\n",
    "plot_settings = [\n",
    "    #:size=>(900,700),\n",
    "    :ylim=>[0.15,0.7],\n",
    "    :grid=>false\n",
    "]"
   ]
  },
  {
   "cell_type": "code",
   "execution_count": null,
   "metadata": {},
   "outputs": [],
   "source": [
    "rnn_ic = ItemCollection(joinpath(data_home,\"mackeyglass_rnn_NRMSE/data\"));\n",
    "p = plot_best_settings(RNNSpec(rnn_ic))\n",
    "plot(p; plot_settings...)"
   ]
  },
  {
   "cell_type": "code",
   "execution_count": null,
   "metadata": {},
   "outputs": [],
   "source": [
    "gvfn_ic = ItemCollection(joinpath(data_home,\"mackeyglass_gvfn_test/data\"));\n",
    "p = plot_best_settings(GVFNSpec(gvfn_ic))\n",
    "plot(p; plot_settings...)"
   ]
  },
  {
   "cell_type": "code",
   "execution_count": null,
   "metadata": {},
   "outputs": [],
   "source": [
    "gvfn_ic = ItemCollection(joinpath(data_home,\"mackeyglass_gvfn_relu_adam_NRMSE/data\"));\n",
    "p = plot_best_settings(GVFNSpec(gvfn_ic))\n",
    "plot(p; plot_settings...)"
   ]
  },
  {
   "cell_type": "code",
   "execution_count": null,
   "metadata": {},
   "outputs": [],
   "source": [
    "gvfn_ic = ItemCollection(joinpath(data_home,\"mackeyglass_gvfn_relu_rmsprop_NRMSE/data\"));\n",
    "p = plot_best_settings(GVFNSpec(gvfn_ic))\n",
    "plot(p; plot_settings...)"
   ]
  },
  {
   "cell_type": "markdown",
   "metadata": {},
   "source": [
    "---\n",
    "# ACEA \n",
    "---"
   ]
  },
  {
   "cell_type": "code",
   "execution_count": null,
   "metadata": {},
   "outputs": [],
   "source": [
    "RNNSpec(ic; window=1) = PlotSpec(ic, \"RNN\", \"rnn_tau\", window)\n",
    "GVFNSpec(ic; window=1) = PlotSpec(ic, \"GVFN\", \"gvfn_tau\", window)"
   ]
  },
  {
   "cell_type": "code",
   "execution_count": null,
   "metadata": {},
   "outputs": [],
   "source": [
    "rnn_ic = ItemCollection(joinpath(data_home,\"ACEA_rnn/data\"))\n",
    "diff(rnn_ic)"
   ]
  },
  {
   "cell_type": "code",
   "execution_count": null,
   "metadata": {
    "scrolled": false
   },
   "outputs": [],
   "source": [
    "p = plot_best_settings(RNNSpec(rnn_ic))\n",
    "plot(p, size=(900,700)) "
   ]
  },
  {
   "cell_type": "markdown",
   "metadata": {},
   "source": [
    "---\n",
    "# MSO \n",
    "---"
   ]
  },
  {
   "cell_type": "code",
   "execution_count": null,
   "metadata": {},
   "outputs": [],
   "source": [
    "RNNSpec(ic; window=1) = PlotSpec(ic, \"RNN\", \"rnn_tau\", window)\n",
    "GVFNSpec(ic; window=1) = PlotSpec(ic, \"GVFN\", \"gvfn_tau\", window)\n",
    "\n",
    "plot_settings = [\n",
    "    #:size=>(900,700),\n",
    "    :ylim=>[0.4,1.0],\n",
    "    :grid=>false\n",
    "]"
   ]
  },
  {
   "cell_type": "code",
   "execution_count": null,
   "metadata": {},
   "outputs": [],
   "source": [
    "rnn_ic = ItemCollection(joinpath(data_home,\"mso_rnn_NRMSE/data\"))\n",
    "p = plot_best_settings(RNNSpec(rnn_ic))\n",
    "#plot(p; plot_settings...)"
   ]
  },
  {
   "cell_type": "code",
   "execution_count": null,
   "metadata": {},
   "outputs": [],
   "source": [
    "gvfn_ic = ItemCollection(joinpath(data_home,\"mso_gvfn_relu_NRMSE/data\"))\n",
    "p = plot_best_settings(GVFNSpec(gvfn_ic))"
   ]
  },
  {
   "cell_type": "code",
   "execution_count": null,
   "metadata": {},
   "outputs": [],
   "source": [
    "gvfn_ic = ItemCollection(joinpath(data_home,\"mso_gvfn_relu_adam_NRMSE/data\"))\n",
    "p = plot_best_settings(GVFNSpec(gvfn_ic))"
   ]
  },
  {
   "cell_type": "code",
   "execution_count": null,
   "metadata": {},
   "outputs": [],
   "source": [
    "gvfn_ic = ItemCollection(joinpath(data_home,\"mso_gvfn_relu_rmsprop_NRMSE/data\"))\n",
    "p = plot_best_settings(GVFNSpec(gvfn_ic))"
   ]
  },
  {
   "cell_type": "markdown",
   "metadata": {
    "collapsed": true
   },
   "source": [
    "---"
   ]
  },
  {
   "cell_type": "code",
   "execution_count": null,
   "metadata": {},
   "outputs": [],
   "source": []
  }
 ],
 "metadata": {
  "kernelspec": {
   "display_name": "Julia 1.3.1",
   "language": "julia",
   "name": "julia-1.3"
  },
  "language_info": {
   "file_extension": ".jl",
   "mimetype": "application/julia",
   "name": "julia",
   "version": "1.3.1"
  }
 },
 "nbformat": 4,
 "nbformat_minor": 2
}
